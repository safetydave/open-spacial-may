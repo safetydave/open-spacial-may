{
  "nbformat": 4,
  "nbformat_minor": 0,
  "metadata": {
    "colab": {
      "name": "os_grid_rl.ipynb",
      "provenance": [],
      "collapsed_sections": []
    },
    "kernelspec": {
      "name": "python3",
      "display_name": "Python 3"
    }
  },
  "cells": [
    {
      "cell_type": "markdown",
      "metadata": {
        "id": "jKuhlaV1Yn-_",
        "colab_type": "text"
      },
      "source": [
        "# Reinforcement Learning Path-Finder\n",
        "\n",
        "Todos:\n",
        "* Improve training data distribution to provide more examples of difficult back-tracking scenarios\n",
        "* Do we need more state info - multiple visits, previous states?\n",
        "* Alternatively, can it learn 'left-hand' maze algorithm from current state info, or what more would be required?\n",
        "* Port to alternative Solver class in open-spacial solution\n",
        "* Run hyper-parameter optimisation"
      ]
    },
    {
      "cell_type": "code",
      "metadata": {
        "id": "9or8V8zd21Hm",
        "colab_type": "code",
        "colab": {}
      },
      "source": [
        "import matplotlib.pyplot as plt\n",
        "import numpy as np\n",
        "import pandas as pd\n",
        "import random"
      ],
      "execution_count": 0,
      "outputs": []
    },
    {
      "cell_type": "markdown",
      "metadata": {
        "id": "Hv--SJA3VKhM",
        "colab_type": "text"
      },
      "source": [
        "# Setup Scenario"
      ]
    },
    {
      "cell_type": "code",
      "metadata": {
        "id": "OIY3syPt30Uh",
        "colab_type": "code",
        "colab": {}
      },
      "source": [
        "def get_room(rank):\n",
        "  return np.zeros((rank, rank), dtype=int)\n",
        "\n",
        "def get_random_source(room):\n",
        "  return random.choice(range(room.shape[0]))\n",
        "\n",
        "def apply_occupancy(room, ids):\n",
        "  [room.itemset(i, 2) for i in ids]\n",
        "\n",
        "def apply_visit(room, ids):\n",
        "  [room.itemset(i, 1) for i in ids]\n",
        "\n",
        "def apply_random_occupancy(room, source, p):\n",
        "  open_desks = list(range(room.size))\n",
        "  open_desks.remove(source)\n",
        "  ids = random.sample(open_desks, int(round(p * len(open_desks))))\n",
        "  apply_occupancy(room, ids)\n",
        "\n",
        "def generate_random_scenario(rank, p):\n",
        "  room = get_room(rank)\n",
        "  source = get_source(room)\n",
        "  apply_random_occupancy(room, source, p)\n",
        "  return room, source\n",
        "\n",
        "def draw_room(room, visits=None):\n",
        "  if visits is None:\n",
        "    visits = np.zeros((room.shape[0], room.shape[1]))\n",
        "  dr = room + visits\n",
        "  #if path: dr.apply_visit(path)\n",
        "  plt.imshow(dr, vmin=0, vmax=2, origin='lower', cmap='plasma')\n",
        "  plt.show()"
      ],
      "execution_count": 0,
      "outputs": []
    },
    {
      "cell_type": "markdown",
      "metadata": {
        "id": "Y6KkS6iDU3TO",
        "colab_type": "text"
      },
      "source": [
        "# Utility"
      ]
    },
    {
      "cell_type": "code",
      "metadata": {
        "id": "EwyQIG5SUKWj",
        "colab_type": "code",
        "colab": {}
      },
      "source": [
        "def i2v(room, i):\n",
        "  rank = room.shape[0]\n",
        "  return (i // rank, i % rank)\n",
        "\n",
        "def v2i(room, v):\n",
        "  rank = room.shape[0]\n",
        "  return v[0] * rank + v[1]\n",
        "\n",
        "def is_front_row(room, i):\n",
        "  rank = room.shape[0]\n",
        "  return i // rank == rank - 1\n",
        "\n",
        "def is_back_row(room, i):\n",
        "  rank = room.shape[0]\n",
        "  return i // rank == 0\n",
        "\n",
        "def is_left_col(room, i):\n",
        "  rank = room.shape[0]\n",
        "  return i % rank == 0\n",
        "\n",
        "def is_right_col(room, i):\n",
        "  rank = room.shape[0]\n",
        "  return i % rank == rank - 1\n",
        "\n",
        "def row_fore(room, i):\n",
        "  rank = room.shape[0]\n",
        "  return i + rank\n",
        "\n",
        "def row_back(room, i):\n",
        "  rank = room.shape[0]\n",
        "  return i - rank\n",
        "\n",
        "def col_left(room, i):\n",
        "  return i - 1\n",
        "\n",
        "def col_right(room, i):\n",
        "  rank = room.shape[0]\n",
        "  return i + 1\n",
        "\n",
        "def inbounds(room, v):\n",
        "  return v[0] >= 0 and v[0] < room.shape[0] and v[1] >= 0 and v[1] < room.shape[1] "
      ],
      "execution_count": 0,
      "outputs": []
    },
    {
      "cell_type": "markdown",
      "metadata": {
        "id": "2KyoZgSeV7rN",
        "colab_type": "text"
      },
      "source": [
        "# Environment, Actions and Agent"
      ]
    },
    {
      "cell_type": "code",
      "metadata": {
        "id": "4Hwyzm8IQ7iV",
        "colab_type": "code",
        "outputId": "252182a9-5842-46b6-aed9-f46af97e979d",
        "colab": {
          "base_uri": "https://localhost:8080/",
          "height": 269
        }
      },
      "source": [
        "room = get_room(4)\n",
        "visits = get_room(4)\n",
        "apply_occupancy(room, [4, 5, 6])\n",
        "apply_occupancy(room, [13, 14, 15])\n",
        "source = 0\n",
        "apply_visit(visits, [12])\n",
        "\n",
        "draw_room(room, visits)"
      ],
      "execution_count": 4,
      "outputs": [
        {
          "output_type": "display_data",
          "data": {
            "image/png": "[encoded data removed]",
            "text/plain": [
              "<Figure size 432x288 with 1 Axes>"
            ]
          },
          "metadata": {
            "tags": [],
            "needs_background": "light"
          }
        }
      ]
    },
    {
      "cell_type": "code",
      "metadata": {
        "id": "X6ftw8A3-sXx",
        "colab_type": "code",
        "outputId": "9de94c0d-3bec-420a-fb4d-ee53f0be073c",
        "colab": {
          "base_uri": "https://localhost:8080/",
          "height": 269
        }
      },
      "source": [
        "def get_extent(margin):\n",
        "  return 2 * margin + 1\n",
        "\n",
        "def get_locality(room, visits, pos, margin):\n",
        "  o_r = i2v(room, pos)[0] - margin\n",
        "  o_c = i2v(room, pos)[1] - margin\n",
        "  extent = get_extent(margin)\n",
        "  locality = np.zeros((extent, extent), dtype=int)\n",
        "  for i in range(extent):\n",
        "    r = o_r + i\n",
        "    for j in range(extent):\n",
        "      c = o_c + j\n",
        "      if inbounds(room, (r, c)):\n",
        "        locality[i][j] = room[r][c] + visits[r][c]\n",
        "      else:\n",
        "        locality[i][j] = 2\n",
        "  return locality\n",
        "\n",
        "loc = get_locality(room, visits, 12, 1)\n",
        "\n",
        "draw_room(loc)"
      ],
      "execution_count": 5,
      "outputs": [
        {
          "output_type": "display_data",
          "data": {
            "image/png": "[encoded data removed]",
            "text/plain": [
              "<Figure size 432x288 with 1 Axes>"
            ]
          },
          "metadata": {
            "tags": [],
            "needs_background": "light"
          }
        }
      ]
    },
    {
      "cell_type": "code",
      "metadata": {
        "id": "3upAn-iPWdqM",
        "colab_type": "code",
        "outputId": "a2950841-5db0-4efd-97a2-228e0b8299e3",
        "colab": {
          "base_uri": "https://localhost:8080/",
          "height": 51
        }
      },
      "source": [
        "subs_move_ids = [7, 5, 1, 3, 4]\n",
        "\n",
        "def get_region_state_id(region):\n",
        "  #id_list = region.flatten()\n",
        "  id_list = [region.item(i) for i in subs_move_ids]\n",
        "  rsi = sum([3 ** (len(id_list) - 1 - i) * r for i, r in enumerate(id_list)])\n",
        "  return int(rsi)\n",
        "\n",
        "print(get_region_state_id(room))\n",
        "print(get_region_state_id(loc))"
      ],
      "execution_count": 6,
      "outputs": [
        {
          "output_type": "stream",
          "text": [
            "56\n",
            "223\n"
          ],
          "name": "stdout"
        }
      ]
    },
    {
      "cell_type": "code",
      "metadata": {
        "id": "rsnNWX1Edd49",
        "colab_type": "code",
        "outputId": "5670800b-1ddf-4cf9-830b-68582b5737d2",
        "colab": {
          "base_uri": "https://localhost:8080/",
          "height": 34
        }
      },
      "source": [
        "num_states = (3 ** len(subs_move_ids)) * 2\n",
        "\n",
        "def get_state_id(room, region, pos):\n",
        "  region_state_id = get_region_state_id(region)\n",
        "  return is_front_row(room, pos) + 2 * region_state_id\n",
        "\n",
        "def get_goal_from_state(room, state):\n",
        "  return state % 2\n",
        "\n",
        "def get_region_from_state(room, state):\n",
        "  return state // 2\n",
        "\n",
        "print(get_state_id(room, loc, 0))"
      ],
      "execution_count": 7,
      "outputs": [
        {
          "output_type": "stream",
          "text": [
            "446\n"
          ],
          "name": "stdout"
        }
      ]
    },
    {
      "cell_type": "code",
      "metadata": {
        "id": "xDBcVa8NWCIW",
        "colab_type": "code",
        "colab": {}
      },
      "source": [
        "# actions - cardinal directions clockwise from 12 as per problem statement\n",
        "actions = range(4)\n",
        "\n",
        "# todo - this could use locality\n",
        "def move_options(room, pos):\n",
        "  blocked = np.zeros(4)\n",
        "  blocked[0] = is_front_row(room, pos) or room.item(row_fore(room, pos)) == 2\n",
        "  blocked[1] = is_right_col(room, pos) or room.item(col_right(room, pos)) == 2\n",
        "  blocked[2] = is_back_row(room, pos) or room.item(row_back(room, pos)) == 2\n",
        "  blocked[3] = is_left_col(room, pos) or room.item(col_left(room, pos)) == 2\n",
        "  return np.logical_not(blocked)\n",
        "\n",
        "move_fn = [row_fore, col_right, row_back, col_left]\n",
        "\n",
        "# decided to not move anywhere if you try to move through block\n",
        "# there are alternative ways to do this (eg, more semantic actions, fail)\n",
        "def next_pos_state(room, visits, margin, pos, state, action):\n",
        "  npos = move_fn[action](room, pos) if move_options(room, pos)[action] else pos\n",
        "  apply_visit(visits, [npos])\n",
        "  nloc = get_locality(room, visits, npos, margin)\n",
        "  return npos, get_state_id(room, nloc, npos)\n",
        "\n",
        "def is_goal(room, state):\n",
        "  return get_goal_from_state(room, state)\n",
        "\n",
        "def reward(room, state, action=None, next_state=None):\n",
        "  r = 0\n",
        "  if is_goal(room, state):\n",
        "    r = 1\n",
        "  elif next_state != state:\n",
        "    r = 0.01 \n",
        "  return r"
      ],
      "execution_count": 0,
      "outputs": []
    },
    {
      "cell_type": "markdown",
      "metadata": {
        "id": "oO3gQWvZmbY5",
        "colab_type": "text"
      },
      "source": [
        "# Q-Learning"
      ]
    },
    {
      "cell_type": "code",
      "metadata": {
        "id": "5SmCv0Wqhxe6",
        "colab_type": "code",
        "outputId": "c744a78f-6731-4ae0-d7d1-d611948d8a2b",
        "colab": {
          "base_uri": "https://localhost:8080/",
          "height": 286
        }
      },
      "source": [
        "margin = 1\n",
        "region_size = get_extent(margin) ** 2\n",
        "\n",
        "room_rank = 6\n",
        "occ_prop = 0.2\n",
        "\n",
        "q_table = np.zeros((num_states, len(actions)))\n",
        "\n",
        "print(num_states)\n",
        "plt.imshow(q_table, origin='lower', aspect='auto', cmap='hot')\n",
        "plt.colorbar()\n",
        "plt.show()"
      ],
      "execution_count": 9,
      "outputs": [
        {
          "output_type": "stream",
          "text": [
            "486\n"
          ],
          "name": "stdout"
        },
        {
          "output_type": "display_data",
          "data": {
            "image/png": "[encoded data removed]",
            "text/plain": [
              "<Figure size 432x288 with 2 Axes>"
            ]
          },
          "metadata": {
            "tags": [],
            "needs_background": "light"
          }
        }
      ]
    },
    {
      "cell_type": "code",
      "metadata": {
        "id": "O1gwsx90oJ1l",
        "colab_type": "code",
        "colab": {}
      },
      "source": [
        "def action_table(state):\n",
        "  values = q_table[state]\n",
        "  if max(values) <= 0:\n",
        "    return None\n",
        "  return np.argmax(values)"
      ],
      "execution_count": 0,
      "outputs": []
    },
    {
      "cell_type": "code",
      "metadata": {
        "id": "rDbrMf0PmYOq",
        "colab_type": "code",
        "colab": {}
      },
      "source": [
        "# learning loop\n",
        "\n",
        "eps = 0.2\n",
        "alpha = 0.2\n",
        "gamma = 0.3\n",
        "\n",
        "episodes = 100000\n",
        "steps = 100\n",
        "for n in range(episodes):\n",
        "  room = get_room(room_rank)\n",
        "  visits = get_room(room_rank)\n",
        "  pos = get_random_source(room)\n",
        "  apply_random_occupancy(room, pos, occ_prop)\n",
        "  apply_visit(room, [pos])\n",
        "  loc = get_locality(room, visits, pos, margin)\n",
        "  s = get_state_id(room, loc, pos)\n",
        "  for t in range(steps):\n",
        "    # action & reward\n",
        "    action = random.choice(actions)\n",
        "    if random.random() > eps:\n",
        "      action = np.argmax(q_table[s])\n",
        "    posn, sn = next_pos_state(room, visits, margin, pos, s, action)\n",
        "    r = reward(room, s, next_state=sn)\n",
        "    \n",
        "    if (sn != s or is_goal(room, s)):\n",
        "      #print('Update q_table for ep {} step {} state {} action {} reward {}'.format(n, t, s, action, r))\n",
        "      # update q-table\n",
        "      q_future_est = np.amax(q_table[sn])\n",
        "      new_val = r + gamma * q_future_est\n",
        "      old_val = q_table[s][action]\n",
        "      learning = alpha * (new_val - old_val)\n",
        "      q_table[s][action] = old_val + learning\n",
        "      #print('With QFE {} update from {} with {} to {}'.format(q_future_est, old_val, learning, q_table[s][action]))\n",
        "\n",
        "    # finish or loop\n",
        "    if is_goal(room, s):\n",
        "      break\n",
        "    s = sn\n",
        "    pos = posn\n",
        "\n"
      ],
      "execution_count": 0,
      "outputs": []
    },
    {
      "cell_type": "code",
      "metadata": {
        "id": "DALx5DU1jBBv",
        "colab_type": "code",
        "outputId": "238ecb8a-388e-4b8e-dd42-8b3b2f7754ae",
        "colab": {
          "base_uri": "https://localhost:8080/",
          "height": 265
        }
      },
      "source": [
        "plt.imshow(q_table, origin='lower', aspect='auto', cmap='hot')\n",
        "plt.colorbar()\n",
        "plt.show()\n"
      ],
      "execution_count": 12,
      "outputs": [
        {
          "output_type": "display_data",
          "data": {
            "image/png": "[encoded data removed]",
            "text/plain": [
              "<Figure size 432x288 with 2 Axes>"
            ]
          },
          "metadata": {
            "tags": [],
            "needs_background": "light"
          }
        }
      ]
    },
    {
      "cell_type": "code",
      "metadata": {
        "id": "_tZ69tfmjeIu",
        "colab_type": "code",
        "outputId": "d55499c1-3113-461c-83fe-50caee6031ec",
        "colab": {
          "base_uri": "https://localhost:8080/",
          "height": 282
        }
      },
      "source": [
        "room = get_room(10)\n",
        "visits = get_room(10)\n",
        "pos = get_random_source(room)\n",
        "apply_visit(visits, [pos])\n",
        "apply_random_occupancy(room, pos, occ_prop)\n",
        "\n",
        "loc = get_locality(room, visits, pos, margin)\n",
        "s = get_state_id(room, loc, pos)\n",
        "path = [pos]\n",
        "path_visits = [visits.copy()]\n",
        "for t in range(30):\n",
        "  a = action_table(s)\n",
        "  if a is None:\n",
        "    print('none @ {}'.format(t))\n",
        "    mvopt = move_options(room, pos)\n",
        "    print(mvopt)\n",
        "    choices = [i for i, mo in enumerate(mvopt) if mo]\n",
        "    print(choices)\n",
        "    a = random.choice(choices)\n",
        "    print(a)\n",
        "  pos, s = next_pos_state(room, visits, margin, pos, s, a) \n",
        "  path.append(pos)\n",
        "  path_visits.append(visits.copy())\n",
        "  if is_goal(room, s):\n",
        "    break\n",
        "\n",
        "print(\"R? {} - path {}\".format(is_goal(room, s), path))\n",
        "draw_room(room, visits)"
      ],
      "execution_count": 13,
      "outputs": [
        {
          "output_type": "stream",
          "text": [
            "R? 1 - path [0, 10, 20, 30, 40, 50, 60, 50, 51, 52, 62, 72, 71, 81, 91]\n"
          ],
          "name": "stdout"
        },
        {
          "output_type": "display_data",
          "data": {
            "image/png": "[encoded data removed]",
            "text/plain": [
              "<Figure size 432x288 with 1 Axes>"
            ]
          },
          "metadata": {
            "tags": [],
            "needs_background": "light"
          }
        }
      ]
    },
    {
      "cell_type": "code",
      "metadata": {
        "id": "ywGv1gi0-tjy",
        "colab_type": "code",
        "outputId": "2e8027b8-f79f-408a-9ff9-17d651a4e7c5",
        "colab": {
          "base_uri": "https://localhost:8080/",
          "height": 129
        }
      },
      "source": [
        "def map_actions(actions):\n",
        "  grid = np.zeros((3, 3))\n",
        "  grid[0][1] = actions[0]\n",
        "  grid[1][2] = actions[1]\n",
        "  grid[2][1] = actions[2]\n",
        "  grid[1][0] = actions[3]\n",
        "  return grid\n",
        "\n",
        "plt_rows = 2\n",
        "plt_cols = len(path)\n",
        "fig, cht = plt.subplots(plt_rows, plt_cols)\n",
        "fig.set_figwidth(0.96 * plt_cols)\n",
        "fig.set_figheight(0.72 * plt_rows)\n",
        "fig.set_facecolor('white')\n",
        "\n",
        "for i, pos in enumerate(path):\n",
        "  loc = get_locality(room, path_visits[i], pos, margin)\n",
        "  cht[0][i].imshow(loc, vmin=0, vmax=2, origin='lower', cmap='plasma')\n",
        "  cht[0][i].set_title('{} @ {}'.format(i, pos))\n",
        "  cht[0][i].axes.xaxis.set_visible(False)\n",
        "  cht[0][i].axes.yaxis.set_visible(False)\n",
        "\n",
        "  s = get_state_id(room, loc, pos)\n",
        "  cht[1][i].imshow(map_actions(q_table[s]), cmap='hot')\n",
        "  cht[1][i].axes.xaxis.set_visible(False)\n",
        "  cht[1][i].axes.yaxis.set_visible(False)\n",
        "\n",
        "plt.show()"
      ],
      "execution_count": 14,
      "outputs": [
        {
          "output_type": "display_data",
          "data": {
            "image/png": "[encoded data removed]",
            "text/plain": [
              "<Figure size 1036.8x103.68 with 30 Axes>"
            ]
          },
          "metadata": {
            "tags": []
          }
        }
      ]
    }
  ]
}